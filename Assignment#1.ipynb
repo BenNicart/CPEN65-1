{
  "nbformat": 4,
  "nbformat_minor": 0,
  "metadata": {
    "colab": {
      "provenance": [],
      "authorship_tag": "ABX9TyMxFGN3kttNm0ik12qgr9yN",
      "include_colab_link": true
    },
    "kernelspec": {
      "name": "python3",
      "display_name": "Python 3"
    },
    "language_info": {
      "name": "python"
    }
  },
  "cells": [
    {
      "cell_type": "markdown",
      "metadata": {
        "id": "view-in-github",
        "colab_type": "text"
      },
      "source": [
        "<a href=\"https://colab.research.google.com/github/BenNicart/CPEN65-1/blob/main/Assignment%231.ipynb\" target=\"_parent\"><img src=\"https://colab.research.google.com/assets/colab-badge.svg\" alt=\"Open In Colab\"/></a>"
      ]
    },
    {
      "cell_type": "markdown",
      "source": [
        "##Create a python program that computes the area of circle"
      ],
      "metadata": {
        "id": "69kK_1_B4wKY"
      }
    },
    {
      "cell_type": "code",
      "source": [
        "class Circle:\n",
        "  def __init__(self,radius,diameter):\n",
        "    self.radius = radius\n",
        "    self.diameter = diameter\n",
        "class Area1(Circle):\n",
        "  def area(self):\n",
        "    print(\"The area of the circle with the given radius is:\")\n",
        "    return  3.1416 * self.radius ** 2\n",
        "class Area2(Circle):\n",
        "  def area(self):\n",
        "    print(\"The area of the circle with the given diameter is:\")\n",
        "    return  0.25 * 3.1416 * self.diameter ** 2\n",
        "\n",
        "obj1 = Area1(4,0)\n",
        "print(obj1.area())\n",
        "\n",
        "obj2 = Area2(0,3)\n",
        "print(obj2.area())"
      ],
      "metadata": {
        "colab": {
          "base_uri": "https://localhost:8080/"
        },
        "id": "3Nirdr3Z6XFh",
        "outputId": "d9f75fb2-63c6-441f-87b5-73008ced2980"
      },
      "execution_count": 33,
      "outputs": [
        {
          "output_type": "stream",
          "name": "stdout",
          "text": [
            "The area of the circle with the given radius is:\n",
            "50.2656\n",
            "The area of the circle with the given diameter is:\n",
            "7.0686\n"
          ]
        }
      ]
    }
  ]
}