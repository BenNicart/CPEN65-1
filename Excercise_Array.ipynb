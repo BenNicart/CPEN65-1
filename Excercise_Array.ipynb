{
  "nbformat": 4,
  "nbformat_minor": 0,
  "metadata": {
    "colab": {
      "provenance": [],
      "authorship_tag": "ABX9TyN9gLWqjrHeloUTIU7P5k2b",
      "include_colab_link": true
    },
    "kernelspec": {
      "name": "python3",
      "display_name": "Python 3"
    },
    "language_info": {
      "name": "python"
    }
  },
  "cells": [
    {
      "cell_type": "markdown",
      "metadata": {
        "id": "view-in-github",
        "colab_type": "text"
      },
      "source": [
        "<a href=\"https://colab.research.google.com/github/BenNicart/CPEN65-1/blob/main/Excercise_Array.ipynb\" target=\"_parent\"><img src=\"https://colab.research.google.com/assets/colab-badge.svg\" alt=\"Open In Colab\"/></a>"
      ]
    },
    {
      "cell_type": "markdown",
      "source": [
        "##Exercise\n",
        "1. Create a python program that use Array\n",
        "2. Inseart each characters of your full name and displays each character of your full name in reverse order"
      ],
      "metadata": {
        "id": "8_Ywx4_nWMP0"
      }
    },
    {
      "cell_type": "code",
      "execution_count": 5,
      "metadata": {
        "colab": {
          "base_uri": "https://localhost:8080/"
        },
        "id": "EqXmizMAUwhp",
        "outputId": "ba9ef259-8142-45ec-d834-f8f5ffab4f72"
      },
      "outputs": [
        {
          "output_type": "stream",
          "name": "stdout",
          "text": [
            "['T', 'R', 'A', 'C', 'I', 'N', 'G.', 'O', 'L', 'O', 'I', 'P', 'N', 'E', 'B']\n"
          ]
        }
      ],
      "source": [
        "characters = [\"B\",\"E\",\"N\",\"P\",\"I\",\"O\",\"L\",\"O\",\"G.\",\"N\",\"I\",\"C\",\"A\",\"R\",\"T\"]  #Fullname = (Ben Piolo G. Nicart)\n",
        "characters.reverse()\n",
        "print(characters)"
      ]
    }
  ]
}