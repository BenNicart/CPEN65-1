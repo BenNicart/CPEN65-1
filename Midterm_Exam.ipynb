{
  "nbformat": 4,
  "nbformat_minor": 0,
  "metadata": {
    "colab": {
      "provenance": [],
      "authorship_tag": "ABX9TyOekEuInfcSVTprCKmQGILn",
      "include_colab_link": true
    },
    "kernelspec": {
      "name": "python3",
      "display_name": "Python 3"
    },
    "language_info": {
      "name": "python"
    }
  },
  "cells": [
    {
      "cell_type": "markdown",
      "metadata": {
        "id": "view-in-github",
        "colab_type": "text"
      },
      "source": [
        "<a href=\"https://colab.research.google.com/github/BenNicart/CPEN65-1/blob/main/Midterm_Exam.ipynb\" target=\"_parent\"><img src=\"https://colab.research.google.com/assets/colab-badge.svg\" alt=\"Open In Colab\"/></a>"
      ]
    },
    {
      "cell_type": "markdown",
      "source": [
        "##Midterm Exam"
      ],
      "metadata": {
        "id": "9CoQeaUPVi3j"
      }
    },
    {
      "cell_type": "markdown",
      "source": [
        "1. Write a Python program to create an array of 10 integers and display the array\n",
        "items. Access individual elements through indexes and compute for the sum."
      ],
      "metadata": {
        "id": "U2Mh-ePyGPRp"
      }
    },
    {
      "cell_type": "code",
      "execution_count": 32,
      "metadata": {
        "colab": {
          "base_uri": "https://localhost:8080/"
        },
        "id": "OHGdY5aR-bBD",
        "outputId": "b07cc741-2e0c-49aa-82f2-041ee9fa6069"
      },
      "outputs": [
        {
          "output_type": "stream",
          "name": "stdout",
          "text": [
            "1\n",
            "2\n",
            "3\n",
            "4\n",
            "5\n",
            "6\n",
            "7\n",
            "8\n",
            "9\n",
            "10\n",
            "Sum of accessed individual element through indexes:\n",
            "55\n"
          ]
        }
      ],
      "source": [
        "from array import *\n",
        "a = array('i', [1,2,3,4,5,6,7,8,9,10])\n",
        "for i in a:\n",
        "    print(i)\n",
        "print(\"Sum of accessed individual element through indexes:\")\n",
        "print(a[0]+a[1]+a[2]+a[3]+a[4]+a[5]+a[6]+a[7]+a[8]+a[9])"
      ]
    },
    {
      "cell_type": "markdown",
      "source": [
        "2. Write a Python program to append a new item to the end of the array. Original\n",
        "array: numbers = [1, 2, 3, 4, 5, 6, 7, 8, 9, 10]"
      ],
      "metadata": {
        "id": "I8-EUR-PGrBc"
      }
    },
    {
      "cell_type": "code",
      "source": [
        "numbers  = [1,2,3,4,5,6,7,8,9,10]\n",
        "numbers.append(11)\n",
        "print(numbers)"
      ],
      "metadata": {
        "colab": {
          "base_uri": "https://localhost:8080/"
        },
        "id": "faVpPBZZGusA",
        "outputId": "fff4b3ec-23eb-4a4f-fc5e-d56f53909ad6"
      },
      "execution_count": 1,
      "outputs": [
        {
          "output_type": "stream",
          "name": "stdout",
          "text": [
            "[1, 2, 3, 4, 5, 6, 7, 8, 9, 10, 11]\n"
          ]
        }
      ]
    },
    {
      "cell_type": "markdown",
      "source": [
        "3. Write a Python program to insert a new item before the last element in an\n",
        "existing array. Original array: numbers = [1, 2, 3, 4, 5, 6, 7, 8, 9, 10]"
      ],
      "metadata": {
        "id": "M4chAIb9Gv3N"
      }
    },
    {
      "cell_type": "code",
      "source": [
        "numbers = [1, 2, 3, 4, 5, 6, 7, 8, 9, 10]\n",
        "numbers.insert(9,9.5)\n",
        "print(numbers)"
      ],
      "metadata": {
        "colab": {
          "base_uri": "https://localhost:8080/"
        },
        "id": "V879IgVsHPl8",
        "outputId": "b66a35e3-07cd-4762-bcd7-2fd2bcfb0bc5"
      },
      "execution_count": 2,
      "outputs": [
        {
          "output_type": "stream",
          "name": "stdout",
          "text": [
            "[1, 2, 3, 4, 5, 6, 7, 8, 9, 9.5, 10]\n"
          ]
        }
      ]
    },
    {
      "cell_type": "markdown",
      "source": [
        "4. Write a Python program to reverse the order of the items in the array. Original\n",
        "array: numbers = [1, 2, 3, 4, 5]"
      ],
      "metadata": {
        "id": "dkLaPwbnHcpj"
      }
    },
    {
      "cell_type": "code",
      "source": [
        "numbers = [1, 2, 3, 4, 5]\n",
        "numbers.reverse()\n",
        "print(numbers)"
      ],
      "metadata": {
        "colab": {
          "base_uri": "https://localhost:8080/"
        },
        "id": "MTFDlqt0Hga1",
        "outputId": "a673bd85-97de-45b0-efe1-9eab04610be4"
      },
      "execution_count": 3,
      "outputs": [
        {
          "output_type": "stream",
          "name": "stdout",
          "text": [
            "[5, 4, 3, 2, 1]\n"
          ]
        }
      ]
    },
    {
      "cell_type": "markdown",
      "source": [
        "5. Let A be an array of size n ≥ 2 containing integers from 1 to n−1, inclusive, with\n",
        "exactly one repeated. Create an algorithm for finding the integer in A that is\n",
        "repeated."
      ],
      "metadata": {
        "id": "FxzuDrPcH2DL"
      }
    },
    {
      "cell_type": "code",
      "source": [
        "A = [1,2,3,4,5,6,7,8,8,9,10]                    \n",
        "N = len(A)                                           \n",
        "\n",
        "def dupe(A, N):\n",
        "  A.sort()\n",
        "  for i in range(1, N):\n",
        "    if (A[i] != i+1):\n",
        "      return A[i]\n",
        "\n",
        "\n",
        "print(dupe(A, N))"
      ],
      "metadata": {
        "colab": {
          "base_uri": "https://localhost:8080/"
        },
        "id": "WwIPotp-H4SD",
        "outputId": "6b734831-a414-4e60-e654-5fcc589c87be"
      },
      "execution_count": 37,
      "outputs": [
        {
          "output_type": "stream",
          "name": "stdout",
          "text": [
            "8\n"
          ]
        }
      ]
    }
  ]
}